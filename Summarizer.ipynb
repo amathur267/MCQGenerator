{
 "cells": [
  {
   "cell_type": "markdown",
   "id": "c870d01d",
   "metadata": {},
   "source": [
    "# Summarizer"
   ]
  },
  {
   "cell_type": "code",
   "execution_count": 1,
   "id": "a8ba3758",
   "metadata": {},
   "outputs": [],
   "source": [
    "import torch\n",
    "from transformers import PegasusForConditionalGeneration, PegasusTokenizer\n",
    "from sentence_splitter import SentenceSplitter, split_text_into_sentences\n"
   ]
  },
  {
   "cell_type": "code",
   "execution_count": 2,
   "id": "589cabca",
   "metadata": {},
   "outputs": [],
   "source": [
    "def get_response(input_text, num_return_sequences):\n",
    "    batch = tokenizer.prepare_seq2seq_batch([input_text], truncation=True, padding='longest', max_length=60,\n",
    "                                            return_tensors=\"pt\").to(torch_device)\n",
    "    translated = model1.generate(**batch, max_length=60, num_beams=10, num_return_sequences=num_return_sequences,\n",
    "                                 temperature=1.5)\n",
    "    tgt_text = tokenizer.batch_decode(translated, skip_special_tokens=True)\n",
    "    return tgt_text"
   ]
  },
  {
   "cell_type": "code",
   "execution_count": 3,
   "id": "28d0af26",
   "metadata": {},
   "outputs": [],
   "source": [
    "model_name = 'tuner007/pegasus_paraphrase'\n",
    "torch_device = 'cuda' if torch.cuda.is_available() else 'cpu'\n",
    "tokenizer = PegasusTokenizer.from_pretrained(model_name)\n",
    "model1 = PegasusForConditionalGeneration.from_pretrained(model_name).to(torch_device)"
   ]
  },
  {
   "cell_type": "code",
   "execution_count": 4,
   "id": "8cc818c2",
   "metadata": {},
   "outputs": [
    {
     "name": "stdout",
     "output_type": "stream",
     "text": [
      "Enter Text :A blockchain is an open, distributed ledger that records transactions in code. In practice, it’s a little like a checkbook that’s distributed across countless computers around the world. Transactions are recorded in “blocks” that are then linked together on a “chain” of previous cryptocurrency transactions.  “Imagine a book where you write down everything you spend money on each day,” says Buchi Okoro, CEO and co-founder of African cryptocurrency exchange Quidax. “Each page is similar to a block, and the entire book, a group of pages, is a blockchain.”  With a blockchain, everyone who uses a cryptocurrency has their own copy of this book to create a unified transaction record. Software logs each new transaction as it happens, and every copy of the blockchain is updated simultaneously with the new information, keeping all records identical and accurate.  To prevent fraud, each transaction is checked using one of two main validation techniques: proof of work or proof of stake.\n",
      "\n",
      "A blockchain is an open, distributed ledger that records transactions in code. In practice, it’s a little like a checkbook that’s distributed across countless computers around the world. Transactions are recorded in “blocks” that are then linked together on a “chain” of previous cryptocurrency transactions.  “Imagine a book where you write down everything you spend money on each day,” says Buchi Okoro, CEO and co-founder of African cryptocurrency exchange Quidax. “Each page is similar to a block, and the entire book, a group of pages, is a blockchain.”  With a blockchain, everyone who uses a cryptocurrency has their own copy of this book to create a unified transaction record. Software logs each new transaction as it happens, and every copy of the blockchain is updated simultaneously with the new information, keeping all records identical and accurate.  To prevent fraud, each transaction is checked using one of two main validation techniques: proof of work or proof of stake.\n"
     ]
    }
   ],
   "source": [
    "paraphrase = []\n",
    "splitter = SentenceSplitter(language='en')\n",
    "text=input(\"Enter Text :\")\n",
    "print()\n",
    "print(text)\n",
    "sentence_list = splitter.split(text)"
   ]
  },
  {
   "cell_type": "code",
   "execution_count": 5,
   "id": "de8631e6",
   "metadata": {},
   "outputs": [
    {
     "name": "stderr",
     "output_type": "stream",
     "text": [
      "C:\\Users\\hp\\anaconda3\\lib\\site-packages\\transformers\\tokenization_utils_base.py:3478: FutureWarning: \n",
      "`prepare_seq2seq_batch` is deprecated and will be removed in version 5 of HuggingFace Transformers. Use the regular\n",
      "`__call__` method to prepare your inputs and the tokenizer under the `as_target_tokenizer` context manager to prepare\n",
      "your targets.\n",
      "\n",
      "Here is a short example:\n",
      "\n",
      "model_inputs = tokenizer(src_texts, ...)\n",
      "with tokenizer.as_target_tokenizer():\n",
      "    labels = tokenizer(tgt_texts, ...)\n",
      "model_inputs[\"labels\"] = labels[\"input_ids\"]\n",
      "\n",
      "See the documentation of your specific tokenizer for more details on the specific arguments to the tokenizer of choice.\n",
      "For a more complete example, see the implementation of `prepare_seq2seq_batch`.\n",
      "\n",
      "  warnings.warn(formatted_warning, FutureWarning)\n"
     ]
    }
   ],
   "source": [
    "for i in sentence_list:\n",
    "    if i == '':\n",
    "        continue\n",
    "    a = get_response(i, 1)\n",
    "    paraphrase.append(a)"
   ]
  },
  {
   "cell_type": "code",
   "execution_count": 6,
   "id": "4277ea98",
   "metadata": {},
   "outputs": [
    {
     "name": "stdout",
     "output_type": "stream",
     "text": [
      "[['There is a distributed ledger that records transactions.'], ['It is similar to a checkbook that is distributed across countless computers around the world.'], ['Transactions are recorded in blocks that are linked together on a chain of previous transactions.'], ['\"Imagine a book where you write down everything you spend money on each day,\" says Buchi Okoro, CEO and co-founder of Africancryptocurrencies exchangeQuidax.'], ['The entire book, a group of pages, is a block.'], ['Everyone who uses acryptocurrencies has their own copy of the book to create a unified transaction record.'], ['Every copy of the blockchain is updated with new information at the same time as the software logs the new transactions.'], ['Proof of work or proof of stake are two main validation techniques that are used to prevent fraud.']]\n"
     ]
    },
    {
     "data": {
      "text/plain": [
       "'There is a distributed ledger that records transactions. It is similar to a checkbook that is distributed across countless computers around the world. Transactions are recorded in blocks that are linked together on a chain of previous transactions. \"Imagine a book where you write down everything you spend money on each day,\" says Buchi Okoro, CEO and co-founder of Africancryptocurrencies exchangeQuidax. The entire book, a group of pages, is a block. Everyone who uses acryptocurrencies has their own copy of the book to create a unified transaction record. Every copy of the blockchain is updated with new information at the same time as the software logs the new transactions. Proof of work or proof of stake are two main validation techniques that are used to prevent fraud.'"
      ]
     },
     "execution_count": 6,
     "metadata": {},
     "output_type": "execute_result"
    }
   ],
   "source": [
    "print(paraphrase)\n",
    "paraphrase2=[' '.join(x[0] for x in paraphrase)]\n",
    "textsumm=paraphrase2[0]\n",
    "textsumm"
   ]
  },
  {
   "cell_type": "markdown",
   "id": "b03627bb",
   "metadata": {},
   "source": [
    "# Dataframe"
   ]
  },
  {
   "cell_type": "code",
   "execution_count": 7,
   "id": "0c9ba88c",
   "metadata": {},
   "outputs": [],
   "source": [
    "import pandas as pd"
   ]
  },
  {
   "cell_type": "code",
   "execution_count": 8,
   "id": "2c17278c",
   "metadata": {},
   "outputs": [],
   "source": [
    "df = pd.DataFrame(columns = ['Question', 'Answer','Options'])"
   ]
  },
  {
   "cell_type": "code",
   "execution_count": 9,
   "id": "ddbec447",
   "metadata": {},
   "outputs": [
    {
     "data": {
      "text/html": [
       "<div>\n",
       "<style scoped>\n",
       "    .dataframe tbody tr th:only-of-type {\n",
       "        vertical-align: middle;\n",
       "    }\n",
       "\n",
       "    .dataframe tbody tr th {\n",
       "        vertical-align: top;\n",
       "    }\n",
       "\n",
       "    .dataframe thead th {\n",
       "        text-align: right;\n",
       "    }\n",
       "</style>\n",
       "<table border=\"1\" class=\"dataframe\">\n",
       "  <thead>\n",
       "    <tr style=\"text-align: right;\">\n",
       "      <th></th>\n",
       "      <th>Question</th>\n",
       "      <th>Answer</th>\n",
       "      <th>Options</th>\n",
       "    </tr>\n",
       "  </thead>\n",
       "  <tbody>\n",
       "  </tbody>\n",
       "</table>\n",
       "</div>"
      ],
      "text/plain": [
       "Empty DataFrame\n",
       "Columns: [Question, Answer, Options]\n",
       "Index: []"
      ]
     },
     "execution_count": 9,
     "metadata": {},
     "output_type": "execute_result"
    }
   ],
   "source": [
    "df"
   ]
  },
  {
   "cell_type": "markdown",
   "id": "5593a0d4",
   "metadata": {},
   "source": [
    "# Bert Keyword Extractor"
   ]
  },
  {
   "cell_type": "code",
   "execution_count": 10,
   "id": "1932d44d",
   "metadata": {},
   "outputs": [],
   "source": [
    "from keybert import KeyBERT\n",
    "kw_model = KeyBERT()"
   ]
  },
  {
   "cell_type": "code",
   "execution_count": 11,
   "id": "575208df",
   "metadata": {},
   "outputs": [
    {
     "name": "stdout",
     "output_type": "stream",
     "text": [
      "True blockchain new transactions\n"
     ]
    }
   ],
   "source": [
    "for i in paraphrase:\n",
    "    a=kw_model.extract_keywords(i[0], keyphrase_ngram_range=(1,2),stop_words=None)[0][0]\n",
    "    b=kw_model.extract_keywords(i[0], keyphrase_ngram_range=(1,1),stop_words=None)[0][0]\n",
    "    df.loc[len(df.index)]=[i[0],a,[]]\n",
    "   # print(b,a,b in a)\n",
    "    if b not in a:\n",
    "        print(b not in a,b,a)\n",
    "        df.loc[len(df.index)]=[i[0],b,[]]\n",
    "    else:\n",
    "        continue"
   ]
  },
  {
   "cell_type": "code",
   "execution_count": 12,
   "id": "9e2f09ea",
   "metadata": {},
   "outputs": [
    {
     "data": {
      "text/html": [
       "<div>\n",
       "<style scoped>\n",
       "    .dataframe tbody tr th:only-of-type {\n",
       "        vertical-align: middle;\n",
       "    }\n",
       "\n",
       "    .dataframe tbody tr th {\n",
       "        vertical-align: top;\n",
       "    }\n",
       "\n",
       "    .dataframe thead th {\n",
       "        text-align: right;\n",
       "    }\n",
       "</style>\n",
       "<table border=\"1\" class=\"dataframe\">\n",
       "  <thead>\n",
       "    <tr style=\"text-align: right;\">\n",
       "      <th></th>\n",
       "      <th>Question</th>\n",
       "      <th>Answer</th>\n",
       "      <th>Options</th>\n",
       "    </tr>\n",
       "  </thead>\n",
       "  <tbody>\n",
       "    <tr>\n",
       "      <th>0</th>\n",
       "      <td>There is a distributed ledger that records tra...</td>\n",
       "      <td>distributed ledger</td>\n",
       "      <td>[]</td>\n",
       "    </tr>\n",
       "    <tr>\n",
       "      <th>1</th>\n",
       "      <td>It is similar to a checkbook that is distribut...</td>\n",
       "      <td>to checkbook</td>\n",
       "      <td>[]</td>\n",
       "    </tr>\n",
       "    <tr>\n",
       "      <th>2</th>\n",
       "      <td>Transactions are recorded in blocks that are l...</td>\n",
       "      <td>previous transactions</td>\n",
       "      <td>[]</td>\n",
       "    </tr>\n",
       "    <tr>\n",
       "      <th>3</th>\n",
       "      <td>\"Imagine a book where you write down everythin...</td>\n",
       "      <td>africancryptocurrencies exchangequidax</td>\n",
       "      <td>[]</td>\n",
       "    </tr>\n",
       "    <tr>\n",
       "      <th>4</th>\n",
       "      <td>The entire book, a group of pages, is a block.</td>\n",
       "      <td>of pages</td>\n",
       "      <td>[]</td>\n",
       "    </tr>\n",
       "    <tr>\n",
       "      <th>5</th>\n",
       "      <td>Everyone who uses acryptocurrencies has their ...</td>\n",
       "      <td>uses acryptocurrencies</td>\n",
       "      <td>[]</td>\n",
       "    </tr>\n",
       "    <tr>\n",
       "      <th>6</th>\n",
       "      <td>Every copy of the blockchain is updated with n...</td>\n",
       "      <td>new transactions</td>\n",
       "      <td>[]</td>\n",
       "    </tr>\n",
       "    <tr>\n",
       "      <th>7</th>\n",
       "      <td>Every copy of the blockchain is updated with n...</td>\n",
       "      <td>blockchain</td>\n",
       "      <td>[]</td>\n",
       "    </tr>\n",
       "    <tr>\n",
       "      <th>8</th>\n",
       "      <td>Proof of work or proof of stake are two main v...</td>\n",
       "      <td>validation techniques</td>\n",
       "      <td>[]</td>\n",
       "    </tr>\n",
       "  </tbody>\n",
       "</table>\n",
       "</div>"
      ],
      "text/plain": [
       "                                            Question  \\\n",
       "0  There is a distributed ledger that records tra...   \n",
       "1  It is similar to a checkbook that is distribut...   \n",
       "2  Transactions are recorded in blocks that are l...   \n",
       "3  \"Imagine a book where you write down everythin...   \n",
       "4     The entire book, a group of pages, is a block.   \n",
       "5  Everyone who uses acryptocurrencies has their ...   \n",
       "6  Every copy of the blockchain is updated with n...   \n",
       "7  Every copy of the blockchain is updated with n...   \n",
       "8  Proof of work or proof of stake are two main v...   \n",
       "\n",
       "                                   Answer Options  \n",
       "0                      distributed ledger      []  \n",
       "1                            to checkbook      []  \n",
       "2                   previous transactions      []  \n",
       "3  africancryptocurrencies exchangequidax      []  \n",
       "4                                of pages      []  \n",
       "5                  uses acryptocurrencies      []  \n",
       "6                        new transactions      []  \n",
       "7                              blockchain      []  \n",
       "8                   validation techniques      []  "
      ]
     },
     "execution_count": 12,
     "metadata": {},
     "output_type": "execute_result"
    }
   ],
   "source": [
    "df"
   ]
  },
  {
   "cell_type": "code",
   "execution_count": null,
   "id": "11f260f9",
   "metadata": {},
   "outputs": [],
   "source": []
  },
  {
   "cell_type": "code",
   "execution_count": null,
   "id": "48dd8917",
   "metadata": {},
   "outputs": [],
   "source": []
  },
  {
   "cell_type": "markdown",
   "id": "d8032dc5",
   "metadata": {},
   "source": [
    "# Distractors (MCQ Options)"
   ]
  },
  {
   "cell_type": "code",
   "execution_count": 14,
   "id": "ab5720c3",
   "metadata": {},
   "outputs": [
    {
     "ename": "ValueError",
     "evalue": "[E003] Not a valid pipeline component. Expected callable, but got 'sense2vec' (name: 'None').[E004] If you meant to add a built-in component, use `create_pipe`: `nlp.add_pipe(nlp.create_pipe('sense2vec'))`",
     "output_type": "error",
     "traceback": [
      "\u001b[1;31m---------------------------------------------------------------------------\u001b[0m",
      "\u001b[1;31mValueError\u001b[0m                                Traceback (most recent call last)",
      "\u001b[1;32m~\\AppData\\Local\\Temp/ipykernel_21664/4107228971.py\u001b[0m in \u001b[0;36m<module>\u001b[1;34m\u001b[0m\n\u001b[0;32m      2\u001b[0m \u001b[1;33m\u001b[0m\u001b[0m\n\u001b[0;32m      3\u001b[0m \u001b[0mnlp\u001b[0m \u001b[1;33m=\u001b[0m \u001b[0mspacy\u001b[0m\u001b[1;33m.\u001b[0m\u001b[0mload\u001b[0m\u001b[1;33m(\u001b[0m\u001b[1;34m\"en_core_web_sm\"\u001b[0m\u001b[1;33m)\u001b[0m\u001b[1;33m\u001b[0m\u001b[1;33m\u001b[0m\u001b[0m\n\u001b[1;32m----> 4\u001b[1;33m \u001b[0ms2v\u001b[0m \u001b[1;33m=\u001b[0m \u001b[0mnlp\u001b[0m\u001b[1;33m.\u001b[0m\u001b[0madd_pipe\u001b[0m\u001b[1;33m(\u001b[0m\u001b[1;34m\"sense2vec\"\u001b[0m\u001b[1;33m)\u001b[0m\u001b[1;33m\u001b[0m\u001b[1;33m\u001b[0m\u001b[0m\n\u001b[0m\u001b[0;32m      5\u001b[0m \u001b[0ms2v\u001b[0m\u001b[1;33m.\u001b[0m\u001b[0mfrom_disk\u001b[0m\u001b[1;33m(\u001b[0m\u001b[1;34m\"s2v_old/\"\u001b[0m\u001b[1;33m)\u001b[0m\u001b[1;33m\u001b[0m\u001b[1;33m\u001b[0m\u001b[0m\n\u001b[0;32m      6\u001b[0m \u001b[1;32mfor\u001b[0m \u001b[0mrow\u001b[0m \u001b[1;32min\u001b[0m \u001b[0mdf\u001b[0m\u001b[1;33m.\u001b[0m\u001b[0miterrows\u001b[0m\u001b[1;33m(\u001b[0m\u001b[1;33m)\u001b[0m\u001b[1;33m:\u001b[0m\u001b[1;33m\u001b[0m\u001b[1;33m\u001b[0m\u001b[0m\n",
      "\u001b[1;32m~\\anaconda3\\lib\\site-packages\\spacy\\language.py\u001b[0m in \u001b[0;36madd_pipe\u001b[1;34m(self, component, name, before, after, first, last)\u001b[0m\n\u001b[0;32m    335\u001b[0m             \u001b[1;32mif\u001b[0m \u001b[0misinstance\u001b[0m\u001b[1;33m(\u001b[0m\u001b[0mcomponent\u001b[0m\u001b[1;33m,\u001b[0m \u001b[0mbasestring_\u001b[0m\u001b[1;33m)\u001b[0m \u001b[1;32mand\u001b[0m \u001b[0mcomponent\u001b[0m \u001b[1;32min\u001b[0m \u001b[0mself\u001b[0m\u001b[1;33m.\u001b[0m\u001b[0mfactories\u001b[0m\u001b[1;33m:\u001b[0m\u001b[1;33m\u001b[0m\u001b[1;33m\u001b[0m\u001b[0m\n\u001b[0;32m    336\u001b[0m                 \u001b[0mmsg\u001b[0m \u001b[1;33m+=\u001b[0m \u001b[0mErrors\u001b[0m\u001b[1;33m.\u001b[0m\u001b[0mE004\u001b[0m\u001b[1;33m.\u001b[0m\u001b[0mformat\u001b[0m\u001b[1;33m(\u001b[0m\u001b[0mcomponent\u001b[0m\u001b[1;33m=\u001b[0m\u001b[0mcomponent\u001b[0m\u001b[1;33m)\u001b[0m\u001b[1;33m\u001b[0m\u001b[1;33m\u001b[0m\u001b[0m\n\u001b[1;32m--> 337\u001b[1;33m             \u001b[1;32mraise\u001b[0m \u001b[0mValueError\u001b[0m\u001b[1;33m(\u001b[0m\u001b[0mmsg\u001b[0m\u001b[1;33m)\u001b[0m\u001b[1;33m\u001b[0m\u001b[1;33m\u001b[0m\u001b[0m\n\u001b[0m\u001b[0;32m    338\u001b[0m         \u001b[1;32mif\u001b[0m \u001b[0mname\u001b[0m \u001b[1;32mis\u001b[0m \u001b[1;32mNone\u001b[0m\u001b[1;33m:\u001b[0m\u001b[1;33m\u001b[0m\u001b[1;33m\u001b[0m\u001b[0m\n\u001b[0;32m    339\u001b[0m             \u001b[0mname\u001b[0m \u001b[1;33m=\u001b[0m \u001b[0mutil\u001b[0m\u001b[1;33m.\u001b[0m\u001b[0mget_component_name\u001b[0m\u001b[1;33m(\u001b[0m\u001b[0mcomponent\u001b[0m\u001b[1;33m)\u001b[0m\u001b[1;33m\u001b[0m\u001b[1;33m\u001b[0m\u001b[0m\n",
      "\u001b[1;31mValueError\u001b[0m: [E003] Not a valid pipeline component. Expected callable, but got 'sense2vec' (name: 'None').[E004] If you meant to add a built-in component, use `create_pipe`: `nlp.add_pipe(nlp.create_pipe('sense2vec'))`"
     ]
    }
   ],
   "source": [
    "import spacy\n",
    "\n",
    "nlp = spacy.load(\"en_core_web_sm\")\n",
    "s2v = nlp.add_pipe(\"sense2vec\")\n",
    "s2v.from_disk(\"s2v_old/\") \n",
    "for row in df.iterrows():\n",
    "    ans=df['Answer']\n",
    "    assert ans in s2v\n",
    "    vector = s2v[ans]\n",
    "    freq = s2v.get_freq(ans)\n",
    "    most_similar = s2v.most_similar(ans, n=3)\n",
    "    print(ans,most_similar)"
   ]
  },
  {
   "cell_type": "code",
   "execution_count": null,
   "id": "ff05c88c",
   "metadata": {},
   "outputs": [],
   "source": [
    "most_similar"
   ]
  },
  {
   "cell_type": "code",
   "execution_count": null,
   "id": "8d4d59e1",
   "metadata": {},
   "outputs": [],
   "source": []
  }
 ],
 "metadata": {
  "kernelspec": {
   "display_name": "Python 3 (ipykernel)",
   "language": "python",
   "name": "python3"
  },
  "language_info": {
   "codemirror_mode": {
    "name": "ipython",
    "version": 3
   },
   "file_extension": ".py",
   "mimetype": "text/x-python",
   "name": "python",
   "nbconvert_exporter": "python",
   "pygments_lexer": "ipython3",
   "version": "3.9.7"
  }
 },
 "nbformat": 4,
 "nbformat_minor": 5
}
